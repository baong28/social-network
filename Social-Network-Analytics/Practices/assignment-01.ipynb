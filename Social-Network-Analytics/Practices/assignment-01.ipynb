{
 "cells": [
  {
   "cell_type": "code",
   "execution_count": 1,
   "metadata": {},
   "outputs": [
    {
     "name": "stdout",
     "output_type": "stream",
     "text": [
      "Collecting networkx\n",
      "  Downloading networkx-3.4.2-py3-none-any.whl.metadata (6.3 kB)\n",
      "Downloading networkx-3.4.2-py3-none-any.whl (1.7 MB)\n",
      "   ---------------------------------------- 0.0/1.7 MB ? eta -:--:--\n",
      "   ------------------------------------ --- 1.6/1.7 MB 13.9 MB/s eta 0:00:01\n",
      "   ---------------------------------------- 1.7/1.7 MB 10.4 MB/s eta 0:00:00\n",
      "Installing collected packages: networkx\n",
      "Successfully installed networkx-3.4.2\n"
     ]
    }
   ],
   "source": [
    "!pip install networkx"
   ]
  },
  {
   "cell_type": "code",
   "execution_count": null,
   "metadata": {},
   "outputs": [
    {
     "name": "stdout",
     "output_type": "stream",
     "text": [
      "Collecting networkx\n",
      "  Downloading networkx-3.4.2-py3-none-any.whl.metadata (6.3 kB)\n",
      "Downloading networkx-3.4.2-py3-none-any.whl (1.7 MB)\n",
      "   ---------------------------------------- 0.0/1.7 MB ? eta -:--:--\n",
      "   ------------------------------------ --- 1.6/1.7 MB 13.9 MB/s eta 0:00:01\n",
      "   ---------------------------------------- 1.7/1.7 MB 10.4 MB/s eta 0:00:00\n",
      "Installing collected packages: networkx\n",
      "Successfully installed networkx-3.4.2\n"
     ]
    }
   ],
   "source": [
    "!pip install networkx"
   ]
  },
  {
   "cell_type": "code",
   "execution_count": 4,
   "metadata": {},
   "outputs": [],
   "source": [
    "import networkx as nx\n",
    "import matplotlib.pyplot as plt\n",
    "import numpy as np"
   ]
  },
  {
   "cell_type": "code",
   "execution_count": null,
   "metadata": {},
   "outputs": [],
   "source": [
    "# Tạo một mạng giả lập với Power Law\n",
    "G = nx.barabasi_albert_graph(1000,2) # Mạng scale free\n",
    "degrees = [G.degree(n) for n in G.nodes()]\n",
    "degrees"
   ]
  },
  {
   "cell_type": "code",
   "execution_count": 50,
   "metadata": {},
   "outputs": [
    {
     "data": {
      "text/plain": [
       "array([  0,   0, 518, 179, 103,  63,  35,  19,  18,   8,   8,   9,   5,\n",
       "         2,   6,   7,   2,   3,   1,   0,   2,   0,   1,   1,   0,   1,\n",
       "         0,   0,   0,   1,   0,   0,   1,   0,   0,   1,   0,   1,   0,\n",
       "         0,   1,   0,   0,   0,   0,   0,   0,   1,   0,   0,   0,   0,\n",
       "         0,   0,   0,   0,   0,   0,   0,   0,   0,   0,   0,   0,   0,\n",
       "         0,   0,   0,   0,   0,   0,   0,   0,   0,   1,   0,   1,   0,\n",
       "         0,   0,   0,   0,   0,   0,   0,   0,   0,   0,   0,   0,   0,\n",
       "         0,   0,   0,   0,   0,   0,   0,   1])"
      ]
     },
     "execution_count": 50,
     "metadata": {},
     "output_type": "execute_result"
    }
   ],
   "source": [
    "degree_count = np.bincount(degrees)\n",
    "degree_count"
   ]
  },
  {
   "cell_type": "code",
   "execution_count": 17,
   "metadata": {},
   "outputs": [
    {
     "data": {
      "text/plain": [
       "array([0.   , 0.   , 0.489, 0.204, 0.107, 0.06 , 0.035, 0.02 , 0.015,\n",
       "       0.013, 0.005, 0.009, 0.005, 0.008, 0.005, 0.003, 0.001, 0.   ,\n",
       "       0.003, 0.003, 0.   , 0.001, 0.002, 0.001, 0.003, 0.   , 0.   ,\n",
       "       0.001, 0.   , 0.   , 0.001, 0.   , 0.   , 0.   , 0.   , 0.   ,\n",
       "       0.001, 0.   , 0.   , 0.   , 0.   , 0.   , 0.001, 0.   , 0.   ,\n",
       "       0.001, 0.   , 0.   , 0.   , 0.   , 0.   , 0.   , 0.001, 0.   ,\n",
       "       0.   , 0.   , 0.   , 0.   , 0.   , 0.   , 0.   , 0.   , 0.   ,\n",
       "       0.   , 0.   , 0.   , 0.001, 0.   , 0.   , 0.   , 0.   , 0.   ,\n",
       "       0.   , 0.   , 0.001])"
      ]
     },
     "execution_count": 17,
     "metadata": {},
     "output_type": "execute_result"
    }
   ],
   "source": [
    "# Tính degree distribution\n",
    "degree_count = np.bincount(degrees)\n",
    "k = np.arange(len(degree_count))\n",
    "P_k = degree_count/ sum(degree_count)\n",
    "P_k"
   ]
  },
  {
   "cell_type": "code",
   "execution_count": null,
   "metadata": {},
   "outputs": [
    {
     "data": {
      "image/png": "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",
      "text/plain": [
       "<Figure size 400x200 with 1 Axes>"
      ]
     },
     "metadata": {},
     "output_type": "display_data"
    }
   ],
   "source": [
    "# Vẽ đồ thị log-log\n",
    "plt.figure(figsize=(4,2))\n",
    "plt.scatter(k, P_k, marker='o', color='blue', s=12, label='Degree Distribution')\n",
    "plt.xscale('log')\n",
    "plt.yscale('log')\n",
    "plt.xlabel(\"Degree (k)\")\n",
    "plt.ylabel(\"P (k)\")\n",
    "plt.title(\"Power Law Degree Distribution\")\n",
    "plt.show()"
   ]
  }
