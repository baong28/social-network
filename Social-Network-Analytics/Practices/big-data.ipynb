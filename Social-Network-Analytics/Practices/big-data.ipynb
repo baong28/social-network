{
 "cells": [
  {
   "cell_type": "code",
   "execution_count": null,
   "metadata": {},
   "outputs": [],
   "source": [
    "li = []\n",
    "i = 0\n",
    "while i < 100:\n",
    "    if i == 50:\n",
    "        break\n",
    "    li.append(i)\n",
    "    i = i+1\n",
    "\n",
    "li"
   ]
  },
  {
   "cell_type": "code",
   "execution_count": 39,
   "metadata": {},
   "outputs": [
    {
     "name": "stdout",
     "output_type": "stream",
     "text": [
      "phương trình có 2 nghiệm phân biệt\n",
      "nghiệm của pt là x1= 1.0, x2= 3.0\n"
     ]
    }
   ],
   "source": [
    "## viết phương trình bậc 2\n",
    "def pt_bac_2():\n",
    "    # Nhập biến\n",
    "    a = float(input('nhập a:'))\n",
    "    b = float(input('nhập b:'))\n",
    "    c = float(input('nhập c:'))\n",
    "\n",
    "    # Tính delta\n",
    "    import math\n",
    "    delta = math.pow(b,2) - 4*a*c \n",
    "\n",
    "    # Tính nghiệm ptrinh\n",
    "    if delta == 0:\n",
    "        x = -b/2*a\n",
    "        print('phương trình có nghiệm kép')\n",
    "        print('nghiệm của pt là x1= {}, x2= {}'.format(x,x))\n",
    "    elif delta > 0:\n",
    "        x1 = (-b-math.sqrt(delta))/2*a\n",
    "        x2 = (-b+math.sqrt(delta))/2*a\n",
    "        print('phương trình có 2 nghiệm phân biệt')\n",
    "        print('nghiệm của pt là x1= {}, x2= {}'.format(x1,x2))\n",
    "    elif delta < 0:\n",
    "        print('phương trình vô nghiệm')\n",
    "    else:\n",
    "        None\n",
    "        \n",
    "pt_bac_2()"
   ]
  },
  {
   "cell_type": "code",
   "execution_count": 45,
   "metadata": {},
   "outputs": [
    {
     "name": "stdout",
     "output_type": "stream",
     "text": [
      "Rất tiếc bạn đã đoán sai rồi, mời đoán lại nhé !!\n"
     ]
    }
   ],
   "source": [
    "def doan_so():\n",
    "    import random\n",
    "    digit = random.randint(0, 9)\n",
    "    x = int(input('Mời đoán số: '))\n",
    "    if x == digit:\n",
    "        print('Bạn đã đoán đúng rồi !!')\n",
    "    else:\n",
    "        print('Rất tiếc bạn đã đoán sai rồi, mời đoán lại nhé !!')\n",
    "\n",
    "doan_so()"
   ]
  }
 ],
 "metadata": {
  "kernelspec": {
   "display_name": "base",
   "language": "python",
   "name": "python3"
  },
  "language_info": {
   "codemirror_mode": {
    "name": "ipython",
    "version": 3
   },
   "file_extension": ".py",
   "mimetype": "text/x-python",
   "name": "python",
   "nbconvert_exporter": "python",
   "pygments_lexer": "ipython3",
   "version": "3.11.7"
  }
 },
 "nbformat": 4,
 "nbformat_minor": 2
}
